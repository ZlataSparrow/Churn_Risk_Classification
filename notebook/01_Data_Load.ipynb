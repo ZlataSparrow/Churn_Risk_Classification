{
 "cells": [
  {
   "cell_type": "code",
   "execution_count": null,
   "id": "3fa1e5ec",
   "metadata": {
    "vscode": {
     "languageId": "plaintext"
    }
   },
   "outputs": [],
   "source": []
  }
 ],
 "metadata": {
  "language_info": {
   "name": "python"
  }
 },
 "nbformat": 4,
 "nbformat_minor": 5
}

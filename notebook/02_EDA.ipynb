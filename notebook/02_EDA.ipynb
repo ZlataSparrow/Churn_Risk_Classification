{
 "cells": [
  {
   "cell_type": "code",
   "execution_count": 1,
   "id": "8a4932dd",
   "metadata": {},
   "outputs": [],
   "source": [
    "import json\n",
    "import pandas as pd\n",
    "import os\n",
    "from pyspark.sql.window import Window\n",
    "from pyspark.sql import SparkSession\n",
    "from pyspark.sql import functions as F"
   ]
  },
  {
   "cell_type": "code",
   "execution_count": 3,
   "id": "c7ba1d16",
   "metadata": {},
   "outputs": [
    {
     "name": "stderr",
     "output_type": "stream",
     "text": [
      "WARNING: Using incubator modules: jdk.incubator.vector\n",
      "Using Spark's default log4j profile: org/apache/spark/log4j2-defaults.properties\n",
      "Setting default log level to \"WARN\".\n",
      "To adjust logging level use sc.setLogLevel(newLevel). For SparkR, use setLogLevel(newLevel).\n",
      "25/10/12 14:27:00 WARN NativeCodeLoader: Unable to load native-hadoop library for your platform... using builtin-java classes where applicable\n",
      "25/10/12 14:27:01 WARN Utils: Service 'SparkUI' could not bind on port 4040. Attempting port 4041.\n",
      "                                                                                \r"
     ]
    },
    {
     "name": "stdout",
     "output_type": "stream",
     "text": [
      "root\n",
      " |-- artist: string (nullable = true)\n",
      " |-- auth: string (nullable = true)\n",
      " |-- firstName: string (nullable = true)\n",
      " |-- gender: string (nullable = true)\n",
      " |-- itemInSession: long (nullable = true)\n",
      " |-- lastName: string (nullable = true)\n",
      " |-- length: double (nullable = true)\n",
      " |-- level: string (nullable = true)\n",
      " |-- location: string (nullable = true)\n",
      " |-- method: string (nullable = true)\n",
      " |-- page: string (nullable = true)\n",
      " |-- registration: long (nullable = true)\n",
      " |-- sessionId: long (nullable = true)\n",
      " |-- song: string (nullable = true)\n",
      " |-- status: long (nullable = true)\n",
      " |-- ts: long (nullable = true)\n",
      " |-- userAgent: string (nullable = true)\n",
      " |-- userId: string (nullable = true)\n",
      "\n",
      "+--------------------+---------+---------+------+-------------+--------+----------+-----+--------------------+------+--------+-------------+---------+--------------------+------+-------------+--------------------+-------+\n",
      "|              artist|     auth|firstName|gender|itemInSession|lastName|    length|level|            location|method|    page| registration|sessionId|                song|status|           ts|           userAgent| userId|\n",
      "+--------------------+---------+---------+------+-------------+--------+----------+-----+--------------------+------+--------+-------------+---------+--------------------+------+-------------+--------------------+-------+\n",
      "|           Popol Vuh|Logged In|    Shlok|     M|          278| Johnson| 524.32934| paid|Dallas-Fort Worth...|   PUT|NextSong|1533734541000|    22683|Ich mache einen S...|   200|1538352001000|\"Mozilla/5.0 (Win...|1749042|\n",
      "|         Los Bunkers|Logged In|  Vianney|     F|            9|  Miller| 238.39302| paid|San Francisco-Oak...|   PUT|NextSong|1537500318000|    20836|         MiÃÂ©ntele|   200|1538352002000|\"Mozilla/5.0 (Mac...|1563081|\n",
      "|                Lush|Logged In|     Vina|     F|          109|  Bailey| 140.35546| paid|            Hilo, HI|   PUT|NextSong|1536414505000|     4593|           Baby Talk|   200|1538352002000|Mozilla/5.0 (Maci...|1697168|\n",
      "|Barry Tuckwell/Ac...|Logged In|   Andres|     M|           71|   Foley| 277.15873| paid|       Watertown, SD|   PUT|NextSong|1534386660000|     6370|Horn Concerto No....|   200|1538352003000|\"Mozilla/5.0 (Mac...|1222580|\n",
      "|                 Yes|Logged In|  Aaliyah|     F|           21| Ramirez|1121.25342| paid|Baltimore-Columbi...|   PUT|NextSong|1537381415000|    22316|Close To The Edge...|   200|1538352003000|\"Mozilla/5.0 (Win...|1714398|\n",
      "+--------------------+---------+---------+------+-------------+--------+----------+-----+--------------------+------+--------+-------------+---------+--------------------+------+-------------+--------------------+-------+\n",
      "only showing top 5 rows\n"
     ]
    },
    {
     "name": "stderr",
     "output_type": "stream",
     "text": [
      "[Stage 2:====================================================>    (89 + 7) / 96]\r"
     ]
    },
    {
     "name": "stdout",
     "output_type": "stream",
     "text": [
      "26259199 rows\n"
     ]
    },
    {
     "name": "stderr",
     "output_type": "stream",
     "text": [
      "                                                                                \r"
     ]
    }
   ],
   "source": [
    "# Create a Spark session (mini-cluster on your Mac)\n",
    "spark = SparkSession.builder \\\n",
    "    .appName(\"CustomerChurn\") \\\n",
    "    .master(\"local[*]\") \\\n",
    "    .getOrCreate()\n",
    "\n",
    "# Read your large JSON\n",
    "data = spark.read.json(\"../data/customer churn data.json\")\n",
    "\n",
    "# Peek at schema and rows\n",
    "data.printSchema()\n",
    "data.show(5)\n",
    "print(data.count(), \"rows\")"
   ]
  },
  {
   "cell_type": "code",
   "execution_count": null,
   "id": "c2854fe3",
   "metadata": {},
   "outputs": [
    {
     "name": "stderr",
     "output_type": "stream",
     "text": [
      "[Stage 15:======>                                                   (1 + 8) / 9]\r"
     ]
    },
    {
     "name": "stdout",
     "output_type": "stream",
     "text": [
      "+----------+-----+\n",
      "|churn_flag|count|\n",
      "+----------+-----+\n",
      "|         1| 5003|\n",
      "|         0|17275|\n",
      "+----------+-----+\n",
      "\n"
     ]
    },
    {
     "name": "stderr",
     "output_type": "stream",
     "text": [
      "                                                                                \r"
     ]
    }
   ],
   "source": [
    "# 1️⃣ Create churn_users (users who canceled)\n",
    "churn_users = (\n",
    "    df.filter(F.col(\"page\") == \"Cancellation Confirmation\")\n",
    "      .select(\"userId\")\n",
    "      .distinct()\n",
    ")\n",
    "\n",
    "# 2️⃣ Join back to main df to add churn_flag\n",
    "df = (\n",
    "    df.join(churn_users.withColumn(\"churn_flag\", F.lit(1)), on=\"userId\", how=\"left\")\n",
    "      .fillna({\"churn_flag\": 0})\n",
    ")\n",
    "\n",
    "# 3️⃣ Check churn counts per user\n",
    "df.select(\"userId\", \"churn_flag\").distinct().groupBy(\"churn_flag\").count().show()"
   ]
  },
  {
   "cell_type": "code",
   "execution_count": 7,
   "id": "b977e322",
   "metadata": {},
   "outputs": [
    {
     "name": "stdout",
     "output_type": "stream",
     "text": [
      "+-------+-------------------------+-------------+\n",
      "|userId |page                     |ts           |\n",
      "+-------+-------------------------+-------------+\n",
      "|1768454|Cancellation Confirmation|1538360145000|\n",
      "|1381915|Cancellation Confirmation|1538362976000|\n",
      "|1298443|Cancellation Confirmation|1538366008000|\n",
      "|1379352|Cancellation Confirmation|1538371144000|\n",
      "|1068112|Cancellation Confirmation|1538371567000|\n",
      "|1362621|Cancellation Confirmation|1538372613000|\n",
      "|1276848|Cancellation Confirmation|1538376242000|\n",
      "|1277353|Cancellation Confirmation|1538376254000|\n",
      "|1274097|Cancellation Confirmation|1538378849000|\n",
      "|1163202|Cancellation Confirmation|1538379172000|\n",
      "+-------+-------------------------+-------------+\n",
      "only showing top 10 rows\n"
     ]
    }
   ],
   "source": [
    "df.filter(F.col(\"page\") == \"Cancellation Confirmation\") \\\n",
    "  .select(\"userId\", \"page\", \"ts\") \\\n",
    "  .show(10, truncate=False)"
   ]
  },
  {
   "cell_type": "code",
   "execution_count": null,
   "id": "76d83cba",
   "metadata": {},
   "outputs": [
    {
     "name": "stderr",
     "output_type": "stream",
     "text": [
      "                                                                                \r"
     ]
    },
    {
     "data": {
      "text/plain": [
       "0"
      ]
     },
     "execution_count": 8,
     "metadata": {},
     "output_type": "execute_result"
    }
   ],
   "source": [
    "\n",
    "\n",
    "# Get each user's latest timestamp\n",
    "user_last_event = (\n",
    "    df.groupBy(\"userId\")\n",
    "      .agg(F.max(\"ts\").alias(\"last_ts\"))\n",
    ")\n",
    "\n",
    "# Compare with cancellation events\n",
    "check_after_cancel = (\n",
    "    df.join(user_last_event, on=\"userId\")\n",
    "      .filter((F.col(\"page\") == \"Cancellation Confirmation\") & (F.col(\"ts\") < F.col(\"last_ts\")))\n",
    ")\n",
    "\n",
    "check_after_cancel.count()"
   ]
  }
 ],
 "metadata": {
  "kernelspec": {
   "display_name": "Python 3",
   "language": "python",
   "name": "python3"
  },
  "language_info": {
   "codemirror_mode": {
    "name": "ipython",
    "version": 3
   },
   "file_extension": ".py",
   "mimetype": "text/x-python",
   "name": "python",
   "nbconvert_exporter": "python",
   "pygments_lexer": "ipython3",
   "version": "3.12.2"
  }
 },
 "nbformat": 4,
 "nbformat_minor": 5
}

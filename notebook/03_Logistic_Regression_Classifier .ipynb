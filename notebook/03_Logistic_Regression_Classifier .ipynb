{
 "cells": [
  {
   "cell_type": "markdown",
   "id": "6515e6ec",
   "metadata": {},
   "source": [
    "# Customer Churn Project — Part 3: Logistic Regression Classifier (Baseline Model)\n",
    "\n",
    "This notebook is the starting point for the Customer Churn Analysis Project. Its primary goals are to ingest, explore, clean, and augment the customer activity logs to build a robust dataset for understanding user behavior and churn.\n",
    "\n",
    "Specifically, in this notebook, I:\n",
    "1. Conduct exploratory data analysis (EDA) to compare active vs. churned users across engagement metrics.\n",
    "2. Examine event distributions, feature correlations, and behavioral indicators leading to churn.\n",
    "3. Analyze temporal and geographic churn trends to understand how churn varies across months and states.\n",
    "4. Identify early behavioral signals (e.g., low activity, fewer playlists, short active periods) that differentiate churned users.\n",
    "5. Prepare analytical insights to inform predictive modeling and feature selection in the next stage (03_Modeling.ipynb).\n",
    "\n",
    "The focus of this notebook is on uncovering data-driven insights about customer retention and disengagement, laying the foundation for building a churn prediction model and actionable business recommendations."
   ]
  },
  {
   "cell_type": "code",
   "execution_count": 7,
   "id": "8a4932dd",
   "metadata": {},
   "outputs": [],
   "source": [
    "import json\n",
    "import pandas as pd\n",
    "import numpy as np\n",
    "import os\n",
    "from pyspark.sql.window import Window\n",
    "from pyspark.sql import SparkSession\n",
    "from pyspark.sql import functions as F\n",
    "\n",
    "import matplotlib.pyplot as plt\n",
    "from matplotlib.patches import Patch\n",
    "import seaborn as sns\n",
    "import pandas as pd\n",
    "\n",
    "from pyspark.ml.feature import VectorAssembler\n",
    "from pyspark.ml.classification import LogisticRegression\n",
    "from pyspark.ml.evaluation import BinaryClassificationEvaluator\n",
    "from pyspark.ml import Pipeline\n",
    "from sklearn.metrics import roc_curve, auc\n",
    "\n",
    "\n",
    "\n",
    "sns.set(style=\"whitegrid\", palette=\"muted\", font_scale=1.1)"
   ]
  },
  {
   "cell_type": "code",
   "execution_count": 2,
   "id": "d65fe194",
   "metadata": {},
   "outputs": [
    {
     "name": "stderr",
     "output_type": "stream",
     "text": [
      "WARNING: Using incubator modules: jdk.incubator.vector\n",
      "Using Spark's default log4j profile: org/apache/spark/log4j2-defaults.properties\n",
      "Setting default log level to \"WARN\".\n",
      "To adjust logging level use sc.setLogLevel(newLevel). For SparkR, use setLogLevel(newLevel).\n",
      "25/10/14 13:06:39 WARN NativeCodeLoader: Unable to load native-hadoop library for your platform... using builtin-java classes where applicable\n",
      "25/10/14 13:06:40 WARN Utils: Service 'SparkUI' could not bind on port 4040. Attempting port 4041.\n",
      "25/10/14 13:06:40 WARN Utils: Service 'SparkUI' could not bind on port 4041. Attempting port 4042.\n"
     ]
    }
   ],
   "source": [
    "os.environ[\"JAVA_HOME\"] = \"/Library/Java/JavaVirtualMachines/openjdk-17.jdk/Contents/Home\"\n",
    "\n",
    "try:\n",
    "    spark.stop()\n",
    "except:\n",
    "    pass\n",
    "\n",
    "\n",
    "spark = (\n",
    "    SparkSession.builder\n",
    "    .appName(\"CustomerChurn_EDA\")\n",
    "    .master(\"local[*]\")\n",
    "    .config(\"spark.driver.memory\", \"6g\")  \n",
    "    .config(\"spark.sql.shuffle.partitions\", \"8\")\n",
    "    .config(\"spark.sql.execution.arrow.pyspark.enabled\", \"true\")\n",
    "    .getOrCreate()\n",
    ")\n",
    "spark.sparkContext.setLogLevel(\"ERROR\")\n",
    "#print(\"✅ Spark started:\", spark.version)"
   ]
  },
  {
   "cell_type": "code",
   "execution_count": 3,
   "id": "8d742051",
   "metadata": {},
   "outputs": [],
   "source": [
    "data = spark.read.parquet(\"../data/churn_data_ready.parquet\")"
   ]
  },
  {
   "cell_type": "code",
   "execution_count": 4,
   "id": "1b0d4756",
   "metadata": {},
   "outputs": [],
   "source": [
    "user_features = (\n",
    "    data.groupBy(\"userId\")\n",
    "    .agg(\n",
    "        F.first(\"churn_flag\").alias(\"churn_flag\"),\n",
    "        F.countDistinct(\"sessionId\").alias(\"num_sessions\"),\n",
    "        F.sum(F.when(F.col(\"page\") == \"NextSong\", 1).otherwise(0)).alias(\"num_songs\"),\n",
    "        F.sum(F.when(F.col(\"page\") == \"Thumbs Up\", 1).otherwise(0)).alias(\"thumbs_up\"),\n",
    "        F.sum(F.when(F.col(\"page\") == \"Thumbs Down\", 1).otherwise(0)).alias(\"thumbs_down\"),\n",
    "        F.sum(F.when(F.col(\"page\") == \"Add to Playlist\", 1).otherwise(0)).alias(\"add_playlist\"),\n",
    "        ( (F.max(\"ts\") - F.min(\"ts\")) / (1000 * 60 * 60 * 24) ).alias(\"active_days\")\n",
    "    )\n",
    ")"
   ]
  },
  {
   "cell_type": "code",
   "execution_count": 15,
   "id": "062fd305",
   "metadata": {},
   "outputs": [
    {
     "name": "stderr",
     "output_type": "stream",
     "text": [
      "                                                                                \r"
     ]
    },
    {
     "data": {
      "text/plain": [
       "[Row(userId='1567623', churn_flag=0, num_sessions=16, num_songs=1135, thumbs_up=65, thumbs_down=15, add_playlist=39, active_days=55.644050925925924),\n",
       " Row(userId='1396135', churn_flag=0, num_sessions=9, num_songs=974, thumbs_up=49, thumbs_down=9, add_playlist=21, active_days=52.782233796296296),\n",
       " Row(userId='1444744', churn_flag=1, num_sessions=21, num_songs=1406, thumbs_up=63, thumbs_down=15, add_playlist=53, active_days=57.14454861111111),\n",
       " Row(userId='1082354', churn_flag=0, num_sessions=13, num_songs=442, thumbs_up=19, thumbs_down=7, add_playlist=10, active_days=53.66190972222222),\n",
       " Row(userId='1633767', churn_flag=0, num_sessions=29, num_songs=2853, thumbs_up=138, thumbs_down=29, add_playlist=88, active_days=50.004502314814815),\n",
       " Row(userId='1187490', churn_flag=0, num_sessions=21, num_songs=1963, thumbs_up=95, thumbs_down=22, add_playlist=62, active_days=58.980358796296294),\n",
       " Row(userId='1180483', churn_flag=0, num_sessions=6, num_songs=168, thumbs_up=13, thumbs_down=1, add_playlist=4, active_days=50.52552083333333),\n",
       " Row(userId='1255222', churn_flag=0, num_sessions=109, num_songs=7970, thumbs_up=392, thumbs_down=88, add_playlist=225, active_days=60.817129629629626),\n",
       " Row(userId='1001958', churn_flag=0, num_sessions=44, num_songs=3519, thumbs_up=162, thumbs_down=34, add_playlist=101, active_days=58.38563657407408),\n",
       " Row(userId='1324309', churn_flag=0, num_sessions=22, num_songs=2619, thumbs_up=133, thumbs_down=39, add_playlist=74, active_days=54.59480324074074)]"
      ]
     },
     "execution_count": 15,
     "metadata": {},
     "output_type": "execute_result"
    }
   ],
   "source": [
    "user_features.head(10)"
   ]
  },
  {
   "cell_type": "code",
   "execution_count": 10,
   "id": "6f001903",
   "metadata": {},
   "outputs": [
    {
     "name": "stderr",
     "output_type": "stream",
     "text": [
      "                                                                                \r"
     ]
    },
    {
     "data": {
      "text/plain": [
       "22261"
      ]
     },
     "execution_count": 10,
     "metadata": {},
     "output_type": "execute_result"
    }
   ],
   "source": [
    "user_features.count()"
   ]
  },
  {
   "cell_type": "markdown",
   "id": "afc6afae",
   "metadata": {},
   "source": [
    "### I. Baseline Logistic Model"
   ]
  },
  {
   "cell_type": "code",
   "execution_count": 5,
   "id": "1fbcdd68",
   "metadata": {},
   "outputs": [
    {
     "name": "stderr",
     "output_type": "stream",
     "text": [
      "                                                                                \r"
     ]
    },
    {
     "name": "stdout",
     "output_type": "stream",
     "text": [
      "ROC-AUC (Baseline Logistic Regression): 0.855\n"
     ]
    }
   ],
   "source": [
    "# Feature columns\n",
    "feature_cols = [\"num_sessions\", \"num_songs\", \"thumbs_up\", \"thumbs_down\", \"add_playlist\", \"active_days\"]\n",
    "\n",
    "# Assemble features\n",
    "assembler = VectorAssembler(inputCols=feature_cols, outputCol=\"features\")\n",
    "\n",
    "# Initialize logistic regression\n",
    "lr = LogisticRegression(labelCol=\"churn_flag\", featuresCol=\"features\")\n",
    "\n",
    "# Build pipeline\n",
    "pipeline = Pipeline(stages=[assembler, lr])\n",
    "\n",
    "# Train/test split\n",
    "train_df, test_df = user_features.randomSplit([0.7, 0.3], seed=42)\n",
    "\n",
    "# Fit model\n",
    "lr_model = pipeline.fit(train_df)\n",
    "\n",
    "# Evaluate\n",
    "predictions = lr_model.transform(test_df)\n",
    "evaluator = BinaryClassificationEvaluator(labelCol=\"churn_flag\", metricName=\"areaUnderROC\")\n",
    "roc_auc = evaluator.evaluate(predictions)\n",
    "\n",
    "print(f\"ROC-AUC (Baseline Logistic Regression): {roc_auc:.3f}\")"
   ]
  },
  {
   "cell_type": "markdown",
   "id": "0dcafb1a",
   "metadata": {},
   "source": [
    "AUC-ROC (Area Under the Receiver Operating Characteristic Curve) shows how well the model can distinguish between churned and active users. The ROC-AUC = 0.855 means the model performs very well, it can correctly rank most users by their churn risk. \n",
    "\n",
    "\n",
    "So, for example, if we randomly select one churned user and one active user, there’s an ~85% chance the model will assign a higher churn probability to the churned user. This means features like num_sessions, thumbs_up, active_days, etc., are already quite informative — even without advanced models."
   ]
  },
  {
   "cell_type": "code",
   "execution_count": 6,
   "id": "c35a78ed",
   "metadata": {},
   "outputs": [
    {
     "data": {
      "text/html": [
       "<div>\n",
       "<style scoped>\n",
       "    .dataframe tbody tr th:only-of-type {\n",
       "        vertical-align: middle;\n",
       "    }\n",
       "\n",
       "    .dataframe tbody tr th {\n",
       "        vertical-align: top;\n",
       "    }\n",
       "\n",
       "    .dataframe thead th {\n",
       "        text-align: right;\n",
       "    }\n",
       "</style>\n",
       "<table border=\"1\" class=\"dataframe\">\n",
       "  <thead>\n",
       "    <tr style=\"text-align: right;\">\n",
       "      <th></th>\n",
       "      <th>feature</th>\n",
       "      <th>coefficient</th>\n",
       "    </tr>\n",
       "  </thead>\n",
       "  <tbody>\n",
       "    <tr>\n",
       "      <th>0</th>\n",
       "      <td>num_sessions</td>\n",
       "      <td>0.050649</td>\n",
       "    </tr>\n",
       "    <tr>\n",
       "      <th>3</th>\n",
       "      <td>thumbs_down</td>\n",
       "      <td>0.038612</td>\n",
       "    </tr>\n",
       "    <tr>\n",
       "      <th>1</th>\n",
       "      <td>num_songs</td>\n",
       "      <td>0.000414</td>\n",
       "    </tr>\n",
       "    <tr>\n",
       "      <th>4</th>\n",
       "      <td>add_playlist</td>\n",
       "      <td>-0.000337</td>\n",
       "    </tr>\n",
       "    <tr>\n",
       "      <th>2</th>\n",
       "      <td>thumbs_up</td>\n",
       "      <td>-0.013491</td>\n",
       "    </tr>\n",
       "    <tr>\n",
       "      <th>5</th>\n",
       "      <td>active_days</td>\n",
       "      <td>-0.081934</td>\n",
       "    </tr>\n",
       "  </tbody>\n",
       "</table>\n",
       "</div>"
      ],
      "text/plain": [
       "        feature  coefficient\n",
       "0  num_sessions     0.050649\n",
       "3   thumbs_down     0.038612\n",
       "1     num_songs     0.000414\n",
       "4  add_playlist    -0.000337\n",
       "2     thumbs_up    -0.013491\n",
       "5   active_days    -0.081934"
      ]
     },
     "execution_count": 6,
     "metadata": {},
     "output_type": "execute_result"
    }
   ],
   "source": [
    "coefficients = lr_model.stages[-1].coefficients\n",
    "intercept = lr_model.stages[-1].intercept\n",
    "coef_df = pd.DataFrame({\"feature\": feature_cols, \"coefficient\": coefficients})\n",
    "coef_df.sort_values(\"coefficient\", ascending=False)"
   ]
  },
  {
   "cell_type": "code",
   "execution_count": 8,
   "id": "8b83fd90",
   "metadata": {},
   "outputs": [
    {
     "name": "stderr",
     "output_type": "stream",
     "text": [
      "                                                                                \r"
     ]
    },
    {
     "data": {
      "image/png": "[encoded data removed]",
      "text/plain": [
       "<Figure size 600x500 with 1 Axes>"
      ]
     },
     "metadata": {},
     "output_type": "display_data"
    }
   ],
   "source": [
    "pdf = predictions.select(\"churn_flag\", \"probability\").toPandas()\n",
    "pdf[\"prob_churn\"] = pdf[\"probability\"].apply(lambda x: float(x[1]))\n",
    "\n",
    "fpr, tpr, _ = roc_curve(pdf[\"churn_flag\"], pdf[\"prob_churn\"])\n",
    "roc_auc = auc(fpr, tpr)\n",
    "\n",
    "plt.figure(figsize=(6,5))\n",
    "plt.plot(fpr, tpr, color=\"darkorange\", lw=2, label=f\"AUC = {roc_auc:.3f}\")\n",
    "plt.plot([0,1], [0,1], color=\"gray\", linestyle=\"--\")\n",
    "plt.title(\"ROC Curve — Logistic Regression\")\n",
    "plt.xlabel(\"False Positive Rate\")\n",
    "plt.ylabel(\"True Positive Rate\")\n",
    "plt.legend()\n",
    "plt.tight_layout()\n",
    "plt.show()"
   ]
  },
  {
   "cell_type": "markdown",
   "id": "1cd0eee6",
   "metadata": {},
   "source": [
    "Together, the AUC score and the model coefficients suggest that the logistic regression model is highly effective at identifying churners based on a small set of behavioral features. The model doesn’t just rely on how much users engage, but rather on the quality of that engagement. For example, users who give more thumbs up or have more active days are less likely to churn, indicating that positive interaction and frequent activity are strong signals of retention. \n",
    "\n",
    "On the other hand, features like thumbs down are clear indicators of dissatisfaction and are positively associated with churn. Interestingly, even though features like the total number of songs played or sessions completed might suggest higher engagement, they don’t necessarily reduce churn and in some cases may slightly increase it — possibly capturing “last attempts” before a user leaves. Overall, these behavioral signals can be used to predict churn early and guide proactive interventions to improve user retention."
   ]
  }
 ],
 "metadata": {
  "kernelspec": {
   "display_name": "Python 3",
   "language": "python",
   "name": "python3"
  },
  "language_info": {
   "codemirror_mode": {
    "name": "ipython",
    "version": 3
   },
   "file_extension": ".py",
   "mimetype": "text/x-python",
   "name": "python",
   "nbconvert_exporter": "python",
   "pygments_lexer": "ipython3",
   "version": "3.12.2"
  }
 },
 "nbformat": 4,
 "nbformat_minor": 5
}
